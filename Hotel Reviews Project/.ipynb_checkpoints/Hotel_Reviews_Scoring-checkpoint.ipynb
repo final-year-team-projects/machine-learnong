{
 "cells": [
  {
   "cell_type": "code",
   "execution_count": 1,
   "metadata": {},
   "outputs": [],
   "source": [
    "import matplotlib.pyplot as plt\n",
    "import pandas as pd\n",
    "import numpy as np\n",
    "import nltk\n",
    "import re\n",
    "from wordcloud import WordCloud\n",
    "from sklearn.model_selection import train_test_split\n",
    "from nltk.corpus import stopwords\n",
    "from nltk.tokenize import word_tokenize, sent_tokenize \n",
    "from nltk import pos_tag, word_tokenize\n",
    "from string import punctuation\n",
    "from sklearn import preprocessing, linear_model, metrics\n",
    "from sklearn.metrics import accuracy_score, classification_report, confusion_matrix\n",
    "from sklearn.feature_extraction.text import TfidfVectorizer, CountVectorizer\n",
    "import itertools\n",
    "%matplotlib inline"
   ]
  },
  {
   "cell_type": "code",
   "execution_count": 2,
   "metadata": {},
   "outputs": [],
   "source": [
    "df = pd.read_csv('Hotel_Reviews.csv')"
   ]
  },
  {
   "cell_type": "code",
   "execution_count": 3,
   "metadata": {},
   "outputs": [
    {
     "data": {
      "text/html": [
       "<div>\n",
       "<style scoped>\n",
       "    .dataframe tbody tr th:only-of-type {\n",
       "        vertical-align: middle;\n",
       "    }\n",
       "\n",
       "    .dataframe tbody tr th {\n",
       "        vertical-align: top;\n",
       "    }\n",
       "\n",
       "    .dataframe thead th {\n",
       "        text-align: right;\n",
       "    }\n",
       "</style>\n",
       "<table border=\"1\" class=\"dataframe\">\n",
       "  <thead>\n",
       "    <tr style=\"text-align: right;\">\n",
       "      <th></th>\n",
       "      <th>Hotel_Address</th>\n",
       "      <th>Additional_Number_of_Scoring</th>\n",
       "      <th>Review_Date</th>\n",
       "      <th>Average_Score</th>\n",
       "      <th>Hotel_Name</th>\n",
       "      <th>Reviewer_Nationality</th>\n",
       "      <th>Negative_Review</th>\n",
       "      <th>Review_Total_Negative_Word_Counts</th>\n",
       "      <th>Total_Number_of_Reviews</th>\n",
       "      <th>Positive_Review</th>\n",
       "      <th>Review_Total_Positive_Word_Counts</th>\n",
       "      <th>Total_Number_of_Reviews_Reviewer_Has_Given</th>\n",
       "      <th>Reviewer_Score</th>\n",
       "      <th>Tags</th>\n",
       "      <th>days_since_review</th>\n",
       "      <th>lat</th>\n",
       "      <th>lng</th>\n",
       "    </tr>\n",
       "  </thead>\n",
       "  <tbody>\n",
       "    <tr>\n",
       "      <th>0</th>\n",
       "      <td>12 rue de la Montagne Sainte Genevi ve 5th arr...</td>\n",
       "      <td>46</td>\n",
       "      <td>3/16/2017</td>\n",
       "      <td>9.0</td>\n",
       "      <td>Hotel La Lanterne</td>\n",
       "      <td>United Kingdom</td>\n",
       "      <td>No Negative</td>\n",
       "      <td>0</td>\n",
       "      <td>499</td>\n",
       "      <td>Super friendly staff in great location</td>\n",
       "      <td>8</td>\n",
       "      <td>2</td>\n",
       "      <td>10.0</td>\n",
       "      <td>[' Leisure trip ', ' Family with young childre...</td>\n",
       "      <td>140 day</td>\n",
       "      <td>48.848984</td>\n",
       "      <td>2.348383</td>\n",
       "    </tr>\n",
       "    <tr>\n",
       "      <th>1</th>\n",
       "      <td>152 Cricklewood Broadway Cricklewood London NW...</td>\n",
       "      <td>512</td>\n",
       "      <td>9/8/2015</td>\n",
       "      <td>8.0</td>\n",
       "      <td>Clayton Crown Hotel London</td>\n",
       "      <td>United Kingdom</td>\n",
       "      <td>There was never any spaces in the car park We...</td>\n",
       "      <td>86</td>\n",
       "      <td>2491</td>\n",
       "      <td>Breakfast</td>\n",
       "      <td>2</td>\n",
       "      <td>1</td>\n",
       "      <td>6.3</td>\n",
       "      <td>[' Couple ', ' Executive Double Room ', ' Stay...</td>\n",
       "      <td>695 day</td>\n",
       "      <td>51.556155</td>\n",
       "      <td>-0.214182</td>\n",
       "    </tr>\n",
       "    <tr>\n",
       "      <th>2</th>\n",
       "      <td>King William Walk Greenwich London SE10 9JW Un...</td>\n",
       "      <td>484</td>\n",
       "      <td>1/30/2017</td>\n",
       "      <td>8.2</td>\n",
       "      <td>De Vere Devonport House</td>\n",
       "      <td>Latvia</td>\n",
       "      <td>No Negative</td>\n",
       "      <td>0</td>\n",
       "      <td>1827</td>\n",
       "      <td>Excellent breakfast comfortable bed very good...</td>\n",
       "      <td>8</td>\n",
       "      <td>28</td>\n",
       "      <td>9.2</td>\n",
       "      <td>[' Business trip ', ' Solo traveler ', ' Twin ...</td>\n",
       "      <td>185 day</td>\n",
       "      <td>51.480672</td>\n",
       "      <td>-0.007137</td>\n",
       "    </tr>\n",
       "    <tr>\n",
       "      <th>3</th>\n",
       "      <td>78 84 Sussex Gardens Westminster Borough Londo...</td>\n",
       "      <td>636</td>\n",
       "      <td>2/16/2016</td>\n",
       "      <td>7.7</td>\n",
       "      <td>Shaftesbury Metropolis London Hyde Park</td>\n",
       "      <td>United Kingdom</td>\n",
       "      <td>Reception staff weren t overly friendly TV di...</td>\n",
       "      <td>86</td>\n",
       "      <td>2867</td>\n",
       "      <td>Very comfortable bed nice bathroom and very c...</td>\n",
       "      <td>10</td>\n",
       "      <td>8</td>\n",
       "      <td>5.0</td>\n",
       "      <td>[' Leisure trip ', ' Couple ', ' Deluxe Double...</td>\n",
       "      <td>534 day</td>\n",
       "      <td>51.516689</td>\n",
       "      <td>-0.170615</td>\n",
       "    </tr>\n",
       "    <tr>\n",
       "      <th>4</th>\n",
       "      <td>Matrosengasse 6 8 06 Mariahilf 1060 Vienna Aus...</td>\n",
       "      <td>387</td>\n",
       "      <td>4/18/2016</td>\n",
       "      <td>8.1</td>\n",
       "      <td>Leonardo Hotel Vienna</td>\n",
       "      <td>Germany</td>\n",
       "      <td>No Negative</td>\n",
       "      <td>0</td>\n",
       "      <td>6373</td>\n",
       "      <td>Good location and cleanliness</td>\n",
       "      <td>5</td>\n",
       "      <td>8</td>\n",
       "      <td>7.1</td>\n",
       "      <td>[' Leisure trip ', ' Family with young childre...</td>\n",
       "      <td>472 day</td>\n",
       "      <td>48.194530</td>\n",
       "      <td>16.340327</td>\n",
       "    </tr>\n",
       "  </tbody>\n",
       "</table>\n",
       "</div>"
      ],
      "text/plain": [
       "                                       Hotel_Address  \\\n",
       "0  12 rue de la Montagne Sainte Genevi ve 5th arr...   \n",
       "1  152 Cricklewood Broadway Cricklewood London NW...   \n",
       "2  King William Walk Greenwich London SE10 9JW Un...   \n",
       "3  78 84 Sussex Gardens Westminster Borough Londo...   \n",
       "4  Matrosengasse 6 8 06 Mariahilf 1060 Vienna Aus...   \n",
       "\n",
       "   Additional_Number_of_Scoring Review_Date  Average_Score  \\\n",
       "0                            46   3/16/2017            9.0   \n",
       "1                           512    9/8/2015            8.0   \n",
       "2                           484   1/30/2017            8.2   \n",
       "3                           636   2/16/2016            7.7   \n",
       "4                           387   4/18/2016            8.1   \n",
       "\n",
       "                                Hotel_Name Reviewer_Nationality  \\\n",
       "0                        Hotel La Lanterne      United Kingdom    \n",
       "1               Clayton Crown Hotel London      United Kingdom    \n",
       "2                  De Vere Devonport House              Latvia    \n",
       "3  Shaftesbury Metropolis London Hyde Park      United Kingdom    \n",
       "4                    Leonardo Hotel Vienna             Germany    \n",
       "\n",
       "                                     Negative_Review  \\\n",
       "0                                        No Negative   \n",
       "1   There was never any spaces in the car park We...   \n",
       "2                                        No Negative   \n",
       "3   Reception staff weren t overly friendly TV di...   \n",
       "4                                        No Negative   \n",
       "\n",
       "   Review_Total_Negative_Word_Counts  Total_Number_of_Reviews  \\\n",
       "0                                  0                      499   \n",
       "1                                 86                     2491   \n",
       "2                                  0                     1827   \n",
       "3                                 86                     2867   \n",
       "4                                  0                     6373   \n",
       "\n",
       "                                     Positive_Review  \\\n",
       "0            Super friendly staff in great location    \n",
       "1                                          Breakfast   \n",
       "2   Excellent breakfast comfortable bed very good...   \n",
       "3   Very comfortable bed nice bathroom and very c...   \n",
       "4                      Good location and cleanliness   \n",
       "\n",
       "   Review_Total_Positive_Word_Counts  \\\n",
       "0                                  8   \n",
       "1                                  2   \n",
       "2                                  8   \n",
       "3                                 10   \n",
       "4                                  5   \n",
       "\n",
       "   Total_Number_of_Reviews_Reviewer_Has_Given  Reviewer_Score  \\\n",
       "0                                           2            10.0   \n",
       "1                                           1             6.3   \n",
       "2                                          28             9.2   \n",
       "3                                           8             5.0   \n",
       "4                                           8             7.1   \n",
       "\n",
       "                                                Tags days_since_review  \\\n",
       "0  [' Leisure trip ', ' Family with young childre...           140 day   \n",
       "1  [' Couple ', ' Executive Double Room ', ' Stay...           695 day   \n",
       "2  [' Business trip ', ' Solo traveler ', ' Twin ...           185 day   \n",
       "3  [' Leisure trip ', ' Couple ', ' Deluxe Double...           534 day   \n",
       "4  [' Leisure trip ', ' Family with young childre...           472 day   \n",
       "\n",
       "         lat        lng  \n",
       "0  48.848984   2.348383  \n",
       "1  51.556155  -0.214182  \n",
       "2  51.480672  -0.007137  \n",
       "3  51.516689  -0.170615  \n",
       "4  48.194530  16.340327  "
      ]
     },
     "execution_count": 3,
     "metadata": {},
     "output_type": "execute_result"
    }
   ],
   "source": [
    "df.head()"
   ]
  },
  {
   "cell_type": "code",
   "execution_count": 4,
   "metadata": {},
   "outputs": [],
   "source": [
    "df['Full_Review'] = df['Positive_Review'] + ' and ' + df['Negative_Review']"
   ]
  },
  {
   "cell_type": "code",
   "execution_count": 5,
   "metadata": {},
   "outputs": [],
   "source": [
    "def cleanme(txt):\n",
    "    sent = txt.lower()\n",
    "    wrds = word_tokenize(sent)\n",
    "    clwrds = [w for w in wrds if not w in stopwords.words('english')]\n",
    "    ln = len(clwrds)\n",
    "    pos = pd.DataFrame(pos_tag(wrds))\n",
    "    pos = \" \".join(list(pos[pos[1].str.contains(\"JJ\")].iloc[:,0]))\n",
    "    rt = [ln, \" \".join(clwrds), pos]\n",
    "    return(rt)"
   ]
  },
  {
   "cell_type": "code",
   "execution_count": 6,
   "metadata": {},
   "outputs": [],
   "source": [
    "tmp = list()\n",
    "for i in range(len(df)):\n",
    "    tmp.append(cleanme(df.iloc[i,:]['Full_Review']))\n",
    "tmp = pd.DataFrame(tmp)\n",
    "tmp.columns = ['reviewlen', 'cleanrev', 'adjreview']"
   ]
  },
  {
   "cell_type": "code",
   "execution_count": 7,
   "metadata": {},
   "outputs": [],
   "source": [
    "x1 = tmp['cleanrev']\n",
    "x2 = tmp['adjreview']\n",
    "y = df[\"Reviewer_Score\"]"
   ]
  },
  {
   "cell_type": "code",
   "execution_count": 8,
   "metadata": {},
   "outputs": [],
   "source": [
    "vect = TfidfVectorizer(ngram_range = (1,3))\n",
    "x_vect1 = vect.fit_transform(x1)\n",
    "x_vect2 = vect.fit_transform(x2)"
   ]
  },
  {
   "cell_type": "code",
   "execution_count": 11,
   "metadata": {},
   "outputs": [],
   "source": [
    "def LinReg(x, y):\n",
    "    cls = linear_model.LinearRegression()\n",
    "    cls.fit(x,y)\n",
    "    prediction= cls.predict(x)\n",
    "    print('Co-efficient of linear regression',cls.coef_)\n",
    "    print('Intercept of linear regression model',cls.intercept_)\n",
    "    print('Mean Square Error', metrics.mean_squared_error(y, prediction))"
   ]
  },
  {
   "cell_type": "code",
   "execution_count": 13,
   "metadata": {},
   "outputs": [
    {
     "name": "stdout",
     "output_type": "stream",
     "text": [
      "Co-efficient of linear regression [-0.69074816 -0.25124314 -0.11778368 ...  0.13344441  0.13344441\n",
      "  0.13344441]\n",
      "Intercept of linear regression model 8.394804177105007\n",
      "Mean Square Error 0.06452627653872954\n"
     ]
    }
   ],
   "source": [
    "LinReg(x_vect1, y)"
   ]
  },
  {
   "cell_type": "code",
   "execution_count": 14,
   "metadata": {},
   "outputs": [
    {
     "name": "stdout",
     "output_type": "stream",
     "text": [
      "Co-efficient of linear regression [-1.69778245 -1.69778245 -1.69778245 ... -0.23489912 -0.23489912\n",
      "  0.02802873]\n",
      "Intercept of linear regression model 8.394804177105007\n",
      "Mean Square Error 0.5935256708855031\n"
     ]
    }
   ],
   "source": [
    "LinReg(x_vect2, y)"
   ]
  },
  {
   "cell_type": "code",
   "execution_count": 11,
   "metadata": {},
   "outputs": [],
   "source": [
    "from sklearn.preprocessing import PolynomialFeatures"
   ]
  },
  {
   "cell_type": "code",
   "execution_count": null,
   "metadata": {},
   "outputs": [],
   "source": [
    "polynomial_features = PolynomialFeatures(degree = 2)\n",
    "x_poly = polynomial_features.fit_transform(x_vect1)\n",
    "\n",
    "model = LinearRegression()\n",
    "model.fit(x_poly, y)\n",
    "y_poly_pred = model.predict(x_poly)\n",
    "\n",
    "print('Co-efficient of linear regression',model.coef_)\n",
    "print('Intercept of linear regression model',model.intercept_)\n",
    "print('Mean Square Error', metrics.mean_squared_error(y, y_poly_pred))\n"
   ]
  },
  {
   "cell_type": "code",
   "execution_count": null,
   "metadata": {},
   "outputs": [],
   "source": []
  }
 ],
 "metadata": {
  "kernelspec": {
   "display_name": "Python 3",
   "language": "python",
   "name": "python3"
  },
  "language_info": {
   "codemirror_mode": {
    "name": "ipython",
    "version": 3
   },
   "file_extension": ".py",
   "mimetype": "text/x-python",
   "name": "python",
   "nbconvert_exporter": "python",
   "pygments_lexer": "ipython3",
   "version": "3.7.3"
  }
 },
 "nbformat": 4,
 "nbformat_minor": 2
}
